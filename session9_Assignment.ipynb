{
 "cells": [
  {
   "cell_type": "code",
   "execution_count": 23,
   "metadata": {},
   "outputs": [],
   "source": [
    "from collections import namedtuple\n",
    "from faker import Faker\n",
    "import datetime\n",
    "from time import perf_counter\n",
    "from functools import wraps\n",
    "import re\n",
    "import random\n",
    "import string\n",
    "from datetime import date\n",
    "from statistics import mode\n",
    "from numpy import random"
   ]
  },
  {
   "cell_type": "code",
   "execution_count": 24,
   "metadata": {},
   "outputs": [
    {
     "data": {
      "text/plain": [
       "{'job': 'International aid/development worker',\n",
       " 'company': 'Myers PLC',\n",
       " 'ssn': '478-04-2040',\n",
       " 'residence': '1293 Phillips Mountain Suite 976\\nWest Amanda, NJ 77755',\n",
       " 'current_location': (Decimal('5.2133565'), Decimal('-160.092122')),\n",
       " 'blood_group': 'A-',\n",
       " 'website': ['https://www.gibbs.biz/', 'https://mathews.com/'],\n",
       " 'username': 'lschmidt',\n",
       " 'name': 'Craig Herman',\n",
       " 'sex': 'M',\n",
       " 'address': '6621 Patrick Drive Suite 494\\nKellyfort, NC 35267',\n",
       " 'mail': 'owalsh@yahoo.com',\n",
       " 'birthdate': datetime.date(2008, 3, 9)}"
      ]
     },
     "execution_count": 24,
     "metadata": {},
     "output_type": "execute_result"
    }
   ],
   "source": [
    "#Using the Faker object to create one fake profile\n",
    "fake = Faker()\n",
    "fake.profile()"
   ]
  },
  {
   "cell_type": "code",
   "execution_count": 25,
   "metadata": {},
   "outputs": [],
   "source": [
    "#Creating a named tuple with the keys in the fake profile as fields\n",
    "Profile = namedtuple('Profile', fake.profile().keys())"
   ]
  },
  {
   "cell_type": "code",
   "execution_count": 26,
   "metadata": {},
   "outputs": [
    {
     "data": {
      "text/plain": [
       "['__add__',\n",
       " '__class__',\n",
       " '__contains__',\n",
       " '__delattr__',\n",
       " '__dir__',\n",
       " '__doc__',\n",
       " '__eq__',\n",
       " '__format__',\n",
       " '__ge__',\n",
       " '__getattribute__',\n",
       " '__getitem__',\n",
       " '__getnewargs__',\n",
       " '__gt__',\n",
       " '__hash__',\n",
       " '__init__',\n",
       " '__init_subclass__',\n",
       " '__iter__',\n",
       " '__le__',\n",
       " '__len__',\n",
       " '__lt__',\n",
       " '__module__',\n",
       " '__mul__',\n",
       " '__ne__',\n",
       " '__new__',\n",
       " '__reduce__',\n",
       " '__reduce_ex__',\n",
       " '__repr__',\n",
       " '__rmul__',\n",
       " '__setattr__',\n",
       " '__sizeof__',\n",
       " '__slots__',\n",
       " '__str__',\n",
       " '__subclasshook__',\n",
       " '_asdict',\n",
       " '_field_defaults',\n",
       " '_fields',\n",
       " '_fields_defaults',\n",
       " '_make',\n",
       " '_replace',\n",
       " 'address',\n",
       " 'birthdate',\n",
       " 'blood_group',\n",
       " 'company',\n",
       " 'count',\n",
       " 'current_location',\n",
       " 'index',\n",
       " 'job',\n",
       " 'mail',\n",
       " 'name',\n",
       " 'residence',\n",
       " 'sex',\n",
       " 'ssn',\n",
       " 'username',\n",
       " 'website']"
      ]
     },
     "execution_count": 26,
     "metadata": {},
     "output_type": "execute_result"
    }
   ],
   "source": [
    "#list of functions present in Profile\n",
    "dir(Profile)"
   ]
  },
  {
   "cell_type": "code",
   "execution_count": 27,
   "metadata": {},
   "outputs": [
    {
     "data": {
      "text/plain": [
       "('job',\n",
       " 'company',\n",
       " 'ssn',\n",
       " 'residence',\n",
       " 'current_location',\n",
       " 'blood_group',\n",
       " 'website',\n",
       " 'username',\n",
       " 'name',\n",
       " 'sex',\n",
       " 'address',\n",
       " 'mail',\n",
       " 'birthdate')"
      ]
     },
     "execution_count": 27,
     "metadata": {},
     "output_type": "execute_result"
    }
   ],
   "source": [
    "#Displaying the fields in named tuple Profile\n",
    "Profile._fields"
   ]
  },
  {
   "cell_type": "code",
   "execution_count": 28,
   "metadata": {},
   "outputs": [
    {
     "data": {
      "text/plain": [
       "Profile(job='Art gallery manager', company='Moore, Olson and Thompson', ssn='752-09-3634', residence='6238 Brian Route Apt. 529\\nWest Gabrielabury, NV 83711', current_location=(Decimal('55.358651'), Decimal('176.718867')), blood_group='B-', website=['https://smith.com/'], username='jessicaellis', name='Ashley Mcclure', sex='F', address='842 Shawn Spurs Apt. 566\\nFernandezberg, NE 73028', mail='potterkelly@hotmail.com', birthdate=datetime.date(1959, 1, 26))"
      ]
     },
     "execution_count": 28,
     "metadata": {},
     "output_type": "execute_result"
    }
   ],
   "source": [
    "#Example for Storing data in namedtuple\n",
    "pr_store = Profile(**fake.profile())\n",
    "pr_store"
   ]
  },
  {
   "cell_type": "code",
   "execution_count": 29,
   "metadata": {},
   "outputs": [],
   "source": [
    "# Defining a Decorator to obtain the execution time for namedtuples and dictionary\n",
    "def timed(fn):\n",
    "    \"\"\"\n",
    "    Decorator to determine run time of a function.\n",
    "    \"\"\"\n",
    "    @wraps(fn)\n",
    "    def inner(*args, **kwargs) -> \"Function Output\":\n",
    "        \"\"\"\n",
    "        Inner function to calculate the time.\n",
    "        \"\"\"\n",
    "        start = perf_counter()\n",
    "        result = fn(*args, **kwargs)\n",
    "        end = perf_counter()\n",
    "        time_elapsed = (end - start)\n",
    "        return time_elapsed, result\n",
    "    return inner"
   ]
  },
  {
   "cell_type": "markdown",
   "metadata": {},
   "source": [
    "## Question1"
   ]
  },
  {
   "cell_type": "code",
   "execution_count": 30,
   "metadata": {},
   "outputs": [],
   "source": [
    "def init_profiles_using_namedtuple(no_profiles: int):\n",
    "    \"\"\"\n",
    "      Creating fake profiles for given number of people using namedtuples\n",
    "    \"\"\"\n",
    "    profiles = []\n",
    "    Profile = namedtuple('Profile', fake.profile().keys())\n",
    "    for _ in range(no_profiles):\n",
    "        profiles.append(Profile(**fake.profile()))\n",
    "    return profiles"
   ]
  },
  {
   "cell_type": "code",
   "execution_count": 31,
   "metadata": {},
   "outputs": [
    {
     "data": {
      "text/plain": [
       "[Profile(job='Fitness centre manager', company='Wilson, Ayala and Trevino', ssn='535-32-8145', residence='4257 Robert Canyon Apt. 304\\nNorth Brandon, ND 66608', current_location=(Decimal('-80.2756035'), Decimal('-90.743027')), blood_group='B-', website=['https://www.gamble.com/'], username='brian70', name='David Hernandez', sex='M', address='1234 Watson Groves\\nSouth Cynthiaburgh, MT 22054', mail='johnshields@yahoo.com', birthdate=datetime.date(2002, 11, 21)),\n",
       " Profile(job='Food technologist', company='Tanner PLC', ssn='674-26-0842', residence='27095 Carolyn Greens Apt. 238\\nEast Matthew, CT 75800', current_location=(Decimal('32.071067'), Decimal('79.286635')), blood_group='O-', website=['https://www.hernandez.com/'], username='michellesimon', name='Steven Santos', sex='M', address='Unit 8970 Box 0239\\nDPO AP 50153', mail='carlafuentes@gmail.com', birthdate=datetime.date(1972, 3, 17))]"
      ]
     },
     "execution_count": 31,
     "metadata": {},
     "output_type": "execute_result"
    }
   ],
   "source": [
    "# Testing Profile Generation Function using Namedtuples\n",
    "init_profiles_using_namedtuple(2)"
   ]
  },
  {
   "cell_type": "code",
   "execution_count": 32,
   "metadata": {},
   "outputs": [],
   "source": [
    "@timed\n",
    "def oldest_person_nt(all_profile_nt:namedtuple)->float:\n",
    "  \"\"\"\n",
    "  This function finds the oldest person from the slot, calculates the duration. The minimum birthdate and\n",
    "  time is returned.\n",
    "  # Param:\n",
    "    all_profile_nt: Named tuple containing all  profiles\n",
    "  \"\"\"\n",
    "  value = min(all_profile_nt, key=lambda v : v[-1])\n",
    "  date_today = datetime.date.today()\n",
    "  age = (date_today - value.birthdate).days\n",
    "  return int(age/365)"
   ]
  },
  {
   "cell_type": "code",
   "execution_count": 33,
   "metadata": {},
   "outputs": [],
   "source": [
    "@timed\n",
    "def average_age_nt(all_profile_nt: namedtuple)->tuple:\n",
    "  \"\"\"\n",
    "  This function finds the average age of the person from the slot, calculates the duration to perform that operation. \n",
    "  The average age and time is returned.\n",
    "  # Param:\n",
    "    all_profile_nt: Named tuple containing all  profiles\n",
    "  \"\"\"\n",
    "  today = date.today()\n",
    "  value = sum(map(lambda v : today.year - v[-1].year -((today.month, today.day) < (v[-1].month, v[-1].day)),all_profile_nt))/len(all_profile_nt)\n",
    "  return value"
   ]
  },
  {
   "cell_type": "code",
   "execution_count": 34,
   "metadata": {},
   "outputs": [],
   "source": [
    "@timed\n",
    "def average_coords_nt(all_profile_nt:namedtuple)->tuple:\n",
    "  \"\"\"\n",
    "  This function finds the average coordinates  from the slot, calculates the duration to perform that operation. \n",
    "  The average coordinates and time is returned.\n",
    "  # Param:\n",
    "    all_profile_nt: Named tuple containing all  profiles\n",
    "  \"\"\"\n",
    "  x, y = sum(map(lambda t: t[0],map(lambda v : v[4],all_profile_nt)))/len(all_profile_nt),sum(map(lambda t: t[1],map(lambda v : v[4],all_profile_nt)))/len(all_profile_nt)\n",
    "  return x, y"
   ]
  },
  {
   "cell_type": "code",
   "execution_count": 35,
   "metadata": {},
   "outputs": [],
   "source": [
    "@timed\n",
    "def max_bloodgroup_nt(all_profile_nt:namedtuple)->tuple:\n",
    "  \"\"\"\n",
    "  This function uses the mode function defined in statisics library to find the most occured blood group from the list. The list is generated\n",
    "  using the lambda function and returned to the mode function as a parameters. The code is then timed and the result and time is sent back.\n",
    "  # Param:\n",
    "    all_profile_nt: Named tuple containing all  profiles\n",
    "  \"\"\"\n",
    "  blood_group = mode(list(map(lambda v: v[5],all_profile_nt)))\n",
    "  return blood_group"
   ]
  },
  {
   "cell_type": "code",
   "execution_count": 36,
   "metadata": {},
   "outputs": [
    {
     "data": {
      "text/plain": [
       "10000"
      ]
     },
     "execution_count": 36,
     "metadata": {},
     "output_type": "execute_result"
    }
   ],
   "source": [
    "fk_Profile_nt = init_profiles_using_namedtuple(10000)\n",
    "len(fk_Profile_nt)"
   ]
  },
  {
   "cell_type": "code",
   "execution_count": 37,
   "metadata": {},
   "outputs": [
    {
     "data": {
      "text/plain": [
       "(0.0020619999995687976, 116)"
      ]
     },
     "execution_count": 37,
     "metadata": {},
     "output_type": "execute_result"
    }
   ],
   "source": [
    "oldest_person_nt(fk_Profile_nt)"
   ]
  },
  {
   "cell_type": "code",
   "execution_count": 38,
   "metadata": {},
   "outputs": [
    {
     "data": {
      "text/plain": [
       "(0.0060350999992806464, 57.6198)"
      ]
     },
     "execution_count": 38,
     "metadata": {},
     "output_type": "execute_result"
    }
   ],
   "source": [
    "average_age_nt(fk_Profile_nt)"
   ]
  },
  {
   "cell_type": "code",
   "execution_count": 39,
   "metadata": {},
   "outputs": [
    {
     "data": {
      "text/plain": [
       "(0.01478809999935038, (Decimal('0.56000529765'), Decimal('0.7409489338')))"
      ]
     },
     "execution_count": 39,
     "metadata": {},
     "output_type": "execute_result"
    }
   ],
   "source": [
    "average_coords_nt(fk_Profile_nt)"
   ]
  },
  {
   "cell_type": "code",
   "execution_count": 40,
   "metadata": {},
   "outputs": [
    {
     "data": {
      "text/plain": [
       "(0.003428400000302645, 'B-')"
      ]
     },
     "execution_count": 40,
     "metadata": {},
     "output_type": "execute_result"
    }
   ],
   "source": [
    "max_bloodgroup_nt(fk_Profile_nt)"
   ]
  },
  {
   "cell_type": "code",
   "execution_count": 169,
   "metadata": {},
   "outputs": [
    {
     "name": "stdout",
     "output_type": "stream",
     "text": [
      "0.022080720769993876\n"
     ]
    }
   ],
   "source": [
    "ti = 0\n",
    "N = 10000\n",
    "for _ in range(N):\n",
    "    total_exec_time_nt = oldest_person_nt(fk_Profile_nt)[0] + average_age_nt(fk_Profile_nt)[0] + average_coords_nt(fk_Profile_nt)[0]+ max_bloodgroup_nt(fk_Profile_nt)[0] \n",
    "    ti+=total_exec_time_nt\n",
    "print(ti/N)"
   ]
  },
  {
   "cell_type": "markdown",
   "metadata": {},
   "source": [
    "## Question2"
   ]
  },
  {
   "cell_type": "code",
   "execution_count": 41,
   "metadata": {},
   "outputs": [],
   "source": [
    "# Converting the Data generated above as list of Dictionary\n",
    "fk_Profile_dict = {'Profile'+str(_):t._asdict() for _, t in enumerate(fk_Profile_nt)}"
   ]
  },
  {
   "cell_type": "code",
   "execution_count": 42,
   "metadata": {},
   "outputs": [],
   "source": [
    "@timed\n",
    "def oldest_person_dc(all_profile_dict:dict)->float:\n",
    "  \"\"\"\n",
    "  This function finds the oldest person from the slot, calculates the duration. The minimum birthdate and\n",
    "  time is returned.\n",
    "  # Param:\n",
    "    all_profile_dc: dictionary containing all  profiles\n",
    "  \"\"\"\n",
    "  value = min(all_profile_dict.values(),key = lambda v : v['birthdate'])\n",
    "  date_today = datetime.date.today()\n",
    "  age = (date_today - value['birthdate']).days  \n",
    "  return int(age/365)"
   ]
  },
  {
   "cell_type": "code",
   "execution_count": 43,
   "metadata": {},
   "outputs": [],
   "source": [
    "@timed\n",
    "def average_age_dc(all_profile_dict:dict)-> float:\n",
    "  \"\"\"\n",
    "  This function finds the average age of the person from the slot, calculates the duration to perform that operation. \n",
    "  The average age and time is returned.\n",
    "  # Param:\n",
    "    all_profile_dc: Dictionary containing all  profiles\n",
    "  \"\"\"\n",
    "  today = date.today()\n",
    "  value = sum(map(lambda v : today.year - v['birthdate'].year -((today.month, today.day) < (v['birthdate'].month, v['birthdate'].day)),all_profile_dict.values()))/len(all_profile_dict)\n",
    "  return value"
   ]
  },
  {
   "cell_type": "code",
   "execution_count": 44,
   "metadata": {},
   "outputs": [],
   "source": [
    "@timed\n",
    "def average_coords_dc(all_profile_dict:dict)->tuple:\n",
    "  \"\"\"\n",
    "  This function finds the average coordinates  from the slot, calculates the duration to perform that operation. \n",
    "  The average coordinates and time is returned.\n",
    "  # Param:\n",
    "    all_profile_dc: dictionary containing all profiles\n",
    "  \"\"\"\n",
    "  x,y = sum(map(lambda t: t[0],map(lambda v : v['current_location'],all_profile_dict.values())))/len(all_profile_dict.values()),sum(map(lambda t: t[1],map(lambda v : v['current_location'],all_profile_dict.values())))/len(all_profile_dict.values())\n",
    "  return x, y\n"
   ]
  },
  {
   "cell_type": "code",
   "execution_count": 45,
   "metadata": {},
   "outputs": [],
   "source": [
    "@timed\n",
    "def max_bloodgroup_dc(all_profile_dict:dict)->tuple:\n",
    "  \"\"\"\n",
    "  This function uses the mode function defined in statisics library to find the most occured blood group from the list. The list is generated\n",
    "  using the lambda function and returned to the mode function as a parameters. The code is then timed and the result and time is sent back.\n",
    "  # Param:\n",
    "    all_profile_dc: dictionary containing all profiles\n",
    "  \"\"\"\n",
    "  value = mode(list(map(lambda v: v['blood_group'],all_profile_dict.values())))\n",
    "  return value"
   ]
  },
  {
   "cell_type": "code",
   "execution_count": 46,
   "metadata": {},
   "outputs": [
    {
     "data": {
      "text/plain": [
       "(0.011001800000485673, 116)"
      ]
     },
     "execution_count": 46,
     "metadata": {},
     "output_type": "execute_result"
    }
   ],
   "source": [
    "oldest_person_dc(fk_Profile_dict)"
   ]
  },
  {
   "cell_type": "code",
   "execution_count": 47,
   "metadata": {},
   "outputs": [
    {
     "data": {
      "text/plain": [
       "(0.011454999999841675, 57.6198)"
      ]
     },
     "execution_count": 47,
     "metadata": {},
     "output_type": "execute_result"
    }
   ],
   "source": [
    "average_age_dc(fk_Profile_dict)"
   ]
  },
  {
   "cell_type": "code",
   "execution_count": 48,
   "metadata": {},
   "outputs": [
    {
     "data": {
      "text/plain": [
       "(0.020222600000124658, (Decimal('0.56000529765'), Decimal('0.7409489338')))"
      ]
     },
     "execution_count": 48,
     "metadata": {},
     "output_type": "execute_result"
    }
   ],
   "source": [
    "average_coords_dc(fk_Profile_dict)"
   ]
  },
  {
   "cell_type": "code",
   "execution_count": 49,
   "metadata": {},
   "outputs": [
    {
     "data": {
      "text/plain": [
       "(0.008328299999448063, 'B-')"
      ]
     },
     "execution_count": 49,
     "metadata": {},
     "output_type": "execute_result"
    }
   ],
   "source": [
    "max_bloodgroup_dc(fk_Profile_dict)"
   ]
  },
  {
   "cell_type": "code",
   "execution_count": 170,
   "metadata": {},
   "outputs": [
    {
     "name": "stdout",
     "output_type": "stream",
     "text": [
      "0.03299605754998584\n"
     ]
    }
   ],
   "source": [
    "ti = 0\n",
    "N  = 10000\n",
    "for i in range(N):\n",
    "    total_exec_time_dc = oldest_person_dc(fk_Profile_dict)[0] + average_age_dc(fk_Profile_dict)[0] + average_coords_dc(fk_Profile_dict)[0]+ max_bloodgroup_dc(fk_Profile_dict)[0] \n",
    "    ti+=total_exec_time_dc\n",
    "print(ti/N)"
   ]
  },
  {
   "cell_type": "markdown",
   "metadata": {},
   "source": [
    "## Question3"
   ]
  },
  {
   "cell_type": "code",
   "execution_count": 50,
   "metadata": {},
   "outputs": [],
   "source": [
    "# Returns a Symbol for the Company\n",
    "def symbol(string):\n",
    "    \"\"\"Returns joined string if characters are upper case\"\"\"\n",
    "    L = len(string)\n",
    "    P1 = random.randint(1,L-1,2)\n",
    "    chars = []\n",
    "    for char in string:\n",
    "        chars.append(char)\n",
    "    chars[P1[0]] = chars[P1[0]].upper()\n",
    "    chars[P1[1]] = chars[P1[1]].upper()\n",
    "    \n",
    "    return ''.join(x for x in chars if x.isupper())"
   ]
  },
  {
   "cell_type": "code",
   "execution_count": 51,
   "metadata": {},
   "outputs": [],
   "source": [
    "def stock_market():\n",
    "    \"\"\"\n",
    "    To create a fake stock data set for imaginary stock exchange for top 100 companies (name, symbol, open, high, close).\n",
    "    Tasks_ToDo: Assign a random weight to all the companies. Calculate and show what value stock market started at, what was the highest value during the day and where did it end.\n",
    "    \"\"\"\n",
    "    all_companies = []\n",
    "    Stocks = namedtuple(\"Stocks\", 'name symbol open high close company_weight')\n",
    "    MkValue_  = random.uniform(1000, 50000, 100)\n",
    "    wts_ = random.uniform(0,1,100)\n",
    "    wts_ = wts_/sum(wts_)\n",
    "    \n",
    "    for _ in range(100):\n",
    "        name = fake.company()\n",
    "        open_ = round(MkValue_[_], 2)*wts_[_]\n",
    "        close = round(open_ * random.uniform(0.7,1.15),2)\n",
    "        high = round(open_ * random.uniform(0.85,1.15),2)\n",
    "        if high < open_:\n",
    "            high = open_\n",
    "        if high < close:\n",
    "            high = close\n",
    "\n",
    "        all_companies.append(\n",
    "            Stocks(name=name, symbol=symbol(name), open=open_, high=round(high, 2), close=round(close, 2), company_weight=round(wts_[_], 4)))\n",
    "\n",
    "    stock_index = round(sum(x.open * x.company_weight for x in all_companies), 4)\n",
    "    highest_for_day = round(sum(x.high * x.company_weight for x in all_companies), 2)\n",
    "    lowest_close_for_day = round(sum(x.close * x.company_weight for x in all_companies), 2)\n",
    "\n",
    "    print(f\"\\n------------------------------------Top 100 listed companies on Fake Stock Exchange------------------------------------\")\n",
    "    [print(x) for x in sorted(all_companies, key=lambda x:x.symbol)]\n",
    "    print(f\"\\n--------------Main details on {date.today()}--------------\")\n",
    "    print(f\"\\nStart of the day: {stock_index}\")\n",
    "    print(f\"Highest for the day: {highest_for_day}\")\n",
    "    print(f\"Lowest close for the day: {lowest_close_for_day}\")"
   ]
  },
  {
   "cell_type": "code",
   "execution_count": 52,
   "metadata": {},
   "outputs": [
    {
     "name": "stdout",
     "output_type": "stream",
     "text": [
      "\n",
      "------------------------------------Top 100 listed companies on Fake Stock Exchange------------------------------------\n",
      "Stocks(name='Aguilar-Simmons', symbol='AGUS', open=426.70254461580043, high=432.29, close=393.83, company_weight=0.0097)\n",
      "Stocks(name='Archer-Vasquez', symbol='ARVQ', open=39.596357482986555, high=41.65, close=41.26, company_weight=0.0014)\n",
      "Stocks(name='Atkins PLC', symbol='ASPLC', open=494.09159515453507, high=497.0, close=497.0, company_weight=0.0178)\n",
      "Stocks(name='Ayala PLC', symbol='AYAPLC', open=61.40945902689992, high=61.41, close=50.15, company_weight=0.0063)\n",
      "Stocks(name='Barnes-Fowler', symbol='BAF', open=6.919910753298194, high=7.31, close=7.31, company_weight=0.0009)\n",
      "Stocks(name='Bennett, Nixon and Hernandez', symbol='BENNH', open=227.98454776733942, high=227.98, close=223.65, company_weight=0.0064)\n",
      "Stocks(name='Boyd, Hudson and Nelson', symbol='BHUN', open=68.38622879669796, high=69.84, close=57.73, company_weight=0.0056)\n",
      "Stocks(name='Castaneda Ltd', symbol='CAAL', open=270.3148689643754, high=278.58, close=234.66, company_weight=0.0056)\n",
      "Stocks(name='Carter-Nichols', symbol='CENC', open=107.04789030572907, high=113.44, close=113.44, company_weight=0.0061)\n",
      "Stocks(name='Campbell, Patton and Herrera', symbol='CLPH', open=493.17636185648155, high=528.46, close=528.46, company_weight=0.0104)\n",
      "Stocks(name='Cervantes, Morrison and Spencer', symbol='CMRSC', open=313.83086867864733, high=328.83, close=304.31, company_weight=0.0121)\n",
      "Stocks(name='Cook PLC', symbol='CPLC', open=62.82890050809207, high=68.96, close=68.96, company_weight=0.0034)\n",
      "Stocks(name='Carter, Santana and Johnson', symbol='CSAAJ', open=521.6873025888522, high=521.69, close=456.49, company_weight=0.0117)\n",
      "Stocks(name='Diaz and Sons', symbol='DADS', open=157.9558365346973, high=158.22, close=118.36, company_weight=0.0044)\n",
      "Stocks(name='Duran Group', symbol='DAG', open=198.78977719207273, high=214.53, close=184.51, company_weight=0.0127)\n",
      "Stocks(name='Daniel-Miller', symbol='DMI', open=275.43322061121347, high=275.43, close=211.14, company_weight=0.0128)\n",
      "Stocks(name='Delacruz-Wagner', symbol='DWGE', open=417.1231666884812, high=440.75, close=361.84, company_weight=0.0087)\n",
      "Stocks(name='Evans-Morgan', symbol='EMOR', open=299.4639766740713, high=317.34, close=317.34, company_weight=0.014)\n",
      "Stocks(name='Evans PLC', symbol='ENPLC', open=44.43193914646904, high=50.42, close=43.9, company_weight=0.0025)\n",
      "Stocks(name='Fritz PLC', symbol='FIPLC', open=374.448029748571, high=407.54, close=293.74, company_weight=0.0179)\n",
      "Stocks(name='Fletcher-Benitez', symbol='FLBI', open=288.70189264213275, high=313.44, close=270.04, company_weight=0.0091)\n",
      "Stocks(name='Faulkner, Petersen and Anthony', symbol='FNPA', open=182.57640297215724, high=205.96, close=205.96, company_weight=0.0183)\n",
      "Stocks(name='Flores-Hendricks', symbol='FRH', open=378.3329975883626, high=378.33, close=359.74, company_weight=0.0079)\n",
      "Stocks(name='Flynn, Stevens and Perez', symbol='FSDP', open=157.556553831328, high=169.34, close=169.34, company_weight=0.0081)\n",
      "Stocks(name='Garcia-Martinez', symbol='GAM', open=64.64887807506203, high=71.56, close=71.56, company_weight=0.0064)\n",
      "Stocks(name='Gibson Group', symbol='GIG', open=499.4421595747692, high=518.48, close=408.27, company_weight=0.0158)\n",
      "Stocks(name='Griffin, Morgan and Cowan', symbol='GIMC', open=283.62503096869324, high=287.68, close=287.68, company_weight=0.012)\n",
      "Stocks(name='Good, Jackson and Smith', symbol='GJKOS', open=373.4606931177143, high=373.46, close=358.02, company_weight=0.0192)\n",
      "Stocks(name='Gonzalez-Kane', symbol='GNLK', open=55.130159330013086, high=60.92, close=60.92, company_weight=0.0033)\n",
      "Stocks(name='Garrett Inc', symbol='GREI', open=56.77208547423816, high=56.77, close=55.45, company_weight=0.009)\n",
      "Stocks(name='Gutierrez LLC', symbol='GRZLLC', open=39.86350605359775, high=39.86, close=39.74, company_weight=0.0023)\n",
      "Stocks(name='Green-Williams', symbol='GWLL', open=139.44328572759844, high=139.44, close=111.57, company_weight=0.0124)\n",
      "Stocks(name='Gray, Jones and Kelley', symbol='GYJK', open=280.54779883915967, high=318.15, close=272.65, company_weight=0.0064)\n",
      "Stocks(name='Hood-Howard', symbol='HDH', open=47.03034196295619, high=51.46, close=49.03, company_weight=0.004)\n",
      "Stocks(name='Hart Group', symbol='HGRO', open=3.4747047448122887, high=3.47, close=3.2, company_weight=0.0001)\n",
      "Stocks(name='Hopkins-Powell', symbol='HNPO', open=919.8572157281286, high=1007.06, close=892.88, company_weight=0.0184)\n",
      "Stocks(name='Haas, Scott and Ferrell', symbol='HSFE', open=502.4878246648685, high=554.4, close=490.49, company_weight=0.0182)\n",
      "Stocks(name='Hines-Fowler', symbol='HSFL', open=13.142465430459293, high=14.43, close=11.52, company_weight=0.0122)\n",
      "Stocks(name='Hobbs, Martin and Moore', symbol='HSMNM', open=68.2860015159441, high=68.29, close=52.73, company_weight=0.004)\n",
      "Stocks(name='Hall and Sons', symbol='HSN', open=9.950096366154733, high=9.95, close=8.34, company_weight=0.0016)\n",
      "Stocks(name='Hart, Flynn and Garrett', symbol='HTFGA', open=8.557669383224335, high=9.53, close=9.52, company_weight=0.0074)\n",
      "Stocks(name='Hayes PLC', symbol='HYEPLC', open=286.01363699483585, high=305.75, close=286.78, company_weight=0.0089)\n",
      "Stocks(name='Ibarra, West and Stephenson', symbol='IAWDS', open=328.97141981576357, high=351.89, close=351.89, company_weight=0.0073)\n",
      "Stocks(name='Jones, Bennett and Clark', symbol='JBEC', open=14.827687516910162, high=14.83, close=11.21, company_weight=0.0118)\n",
      "Stocks(name='Jacobs Group', symbol='JSGO', open=467.4431309911517, high=530.64, close=473.08, company_weight=0.0128)\n",
      "Stocks(name='Lopez-Williams', symbol='LPWI', open=475.46942617464185, high=504.07, close=339.01, company_weight=0.0107)\n",
      "Stocks(name='Lutz PLC', symbol='LUPLC', open=125.92530854532127, high=131.8, close=131.8, company_weight=0.0136)\n",
      "Stocks(name='Lynn, Williams and Mendez', symbol='LWIM', open=621.5692275025029, high=660.1, close=481.07, company_weight=0.0155)\n",
      "Stocks(name='Lewis-Smith', symbol='LWSS', open=573.2765895008481, high=622.47, close=572.9, company_weight=0.0151)\n",
      "Stocks(name='Mcneil LLC', symbol='MCLLC', open=656.9792770642147, high=710.83, close=552.08, company_weight=0.0174)\n",
      "Stocks(name='Mccall, Woods and Miller', symbol='MCWM', open=69.39499694468475, high=78.25, close=78.25, company_weight=0.0101)\n",
      "Stocks(name='Mendoza, Greene and Hernandez', symbol='MGHR', open=78.05143480499476, high=79.15, close=73.73, company_weight=0.0166)\n",
      "Stocks(name='Martin, Gomez and Figueroa', symbol='MIGFI', open=296.78176309464476, high=316.76, close=209.29, company_weight=0.0103)\n",
      "Stocks(name='Mcneil-Harper', symbol='MIHP', open=387.9781396324708, high=387.98, close=303.43, company_weight=0.0133)\n",
      "Stocks(name='Michael Group', symbol='MILG', open=156.98763605656447, high=179.32, close=124.02, company_weight=0.0146)\n",
      "Stocks(name='Miles-Love', symbol='MILV', open=217.4652528021795, high=245.5, close=245.5, company_weight=0.0187)\n",
      "Stocks(name='Mccoy PLC', symbol='MOPLC', open=290.94313002528196, high=310.72, close=230.91, company_weight=0.0061)\n",
      "Stocks(name='Morrow LLC', symbol='MORLLC', open=26.60964325489834, high=29.96, close=21.42, company_weight=0.0009)\n",
      "Stocks(name='Montgomery, Turner and Cross', symbol='MOTAC', open=729.2316238643341, high=729.23, close=679.78, company_weight=0.0182)\n",
      "Stocks(name='Mason-Jones', symbol='MSNJ', open=183.57753878844983, high=183.58, close=134.79, company_weight=0.0062)\n",
      "Stocks(name='Macias, Tran and Jackson', symbol='MSTJ', open=325.01253985523226, high=355.61, close=284.47, company_weight=0.0125)\n",
      "Stocks(name='Meyer, Smith and Martin', symbol='MSTMA', open=14.215911852783268, high=14.22, close=14.18, company_weight=0.0042)\n",
      "Stocks(name='Martinez, Evans and Rivera', symbol='MTERE', open=347.7512427784717, high=347.75, close=271.16, company_weight=0.0141)\n",
      "Stocks(name='Mitchell-Wilson', symbol='MTWO', open=401.87508496150514, high=430.56, close=318.21, company_weight=0.0103)\n",
      "Stocks(name='Norris, Webb and Cook', symbol='NIWBC', open=45.25046371514317, high=45.75, close=35.24, company_weight=0.0031)\n",
      "Stocks(name='Olson Ltd', symbol='OOLT', open=158.75116286768178, high=170.97, close=156.31, company_weight=0.008)\n",
      "Stocks(name='Perez-Beltran', symbol='PEBR', open=421.1656172035123, high=481.18, close=354.36, company_weight=0.0094)\n",
      "Stocks(name='Price-Payne', symbol='PEPA', open=116.90807420284274, high=116.91, close=115.94, company_weight=0.0037)\n",
      "Stocks(name='Petersen Inc', symbol='PI', open=882.7793484321478, high=923.64, close=923.64, company_weight=0.0179)\n",
      "Stocks(name='Pham Ltd', symbol='PL', open=423.66445824367696, high=447.03, close=447.03, company_weight=0.0105)\n",
      "Stocks(name='Perry-Brown', symbol='PRB', open=95.11669327940814, high=107.1, close=89.54, company_weight=0.0034)\n",
      "Stocks(name='Porter, Perry and Wallace', symbol='PRPW', open=5.787524341668941, high=6.59, close=6.12, company_weight=0.0001)\n",
      "Stocks(name='Phillips, Gomez and Hamilton', symbol='PSGEH', open=133.10740720612196, high=138.05, close=93.96, company_weight=0.0032)\n",
      "Stocks(name='Parker, Sharp and Hicks', symbol='PSHHC', open=305.71090221650013, high=305.71, close=225.05, company_weight=0.0091)\n",
      "Stocks(name='Robinson-Pitts', symbol='RBIP', open=45.00455550922642, high=45.0, close=41.79, company_weight=0.0022)\n",
      "Stocks(name='Rogers, Barber and Robinson', symbol='RBRRO', open=533.9174459916818, high=588.9, close=401.25, company_weight=0.0174)\n",
      "Stocks(name='Robles-Garcia', symbol='RGA', open=504.1099404349234, high=572.42, close=572.42, company_weight=0.0132)\n",
      "Stocks(name='Rollins-Anderson', symbol='RLAN', open=418.1038119188104, high=477.03, close=477.03, company_weight=0.0147)\n",
      "Stocks(name='Rosales-Collins', symbol='ROC', open=128.58304642130324, high=137.04, close=121.43, company_weight=0.0046)\n",
      "Stocks(name='Roberts-Baxter', symbol='RRB', open=341.95215221712067, high=344.9, close=295.22, company_weight=0.0125)\n",
      "Stocks(name='Rodgers Ltd', symbol='RSLT', open=298.4862566443764, high=318.47, close=318.47, company_weight=0.0064)\n",
      "Stocks(name='Salas, Oliver and Lopez', symbol='SAOL', open=119.00397191593204, high=120.48, close=120.48, company_weight=0.0163)\n",
      "Stocks(name='Spencer, Scott and Collins', symbol='SCSTC', open=353.93270314833967, high=379.05, close=379.05, company_weight=0.0143)\n",
      "Stocks(name='Simpson-Payne', symbol='SIP', open=109.84853341202086, high=124.93, close=124.93, company_weight=0.006)\n",
      "Stocks(name='Stanley-Robinson', symbol='SLRS', open=350.7038624327808, high=358.98, close=358.98, company_weight=0.0172)\n",
      "Stocks(name='Snow Ltd', symbol='SLT', open=291.52524078134115, high=291.53, close=285.06, company_weight=0.0081)\n",
      "Stocks(name='Shaw, Roy and Thompson', symbol='SRNTH', open=508.324158680148, high=508.32, close=496.91, company_weight=0.0158)\n",
      "Stocks(name='Steele and Sons', symbol='SSO', open=369.00105874038513, high=369.0, close=353.31, company_weight=0.0084)\n",
      "Stocks(name='Scott-Carter', symbol='STCT', open=444.0277635714115, high=454.47, close=454.47, company_weight=0.0117)\n",
      "Stocks(name='Schwartz-Lynn', symbol='STL', open=295.3947048480764, high=295.39, close=280.11, company_weight=0.014)\n",
      "Stocks(name='Vargas, Ford and Smith', symbol='VFDNS', open=276.77459569240955, high=303.78, close=303.78, company_weight=0.0056)\n",
      "Stocks(name='Vargas-Garza', symbol='VGZ', open=495.6452791142546, high=548.09, close=548.09, company_weight=0.0192)\n",
      "Stocks(name='Wolfe-Armstrong', symbol='WARO', open=147.96144077600778, high=154.46, close=154.46, company_weight=0.013)\n",
      "Stocks(name='West, Davidson and Dorsey', symbol='WDAD', open=66.61533833117288, high=66.62, close=56.27, company_weight=0.01)\n",
      "Stocks(name='Wilson, Higgins and Miller', symbol='WHNM', open=334.5727100267107, high=334.57, close=296.17, company_weight=0.0175)\n",
      "Stocks(name='Williams, Cole and Farrell', symbol='WLCF', open=49.02234704310603, high=51.29, close=51.29, company_weight=0.0049)\n",
      "Stocks(name='Williams Ltd', symbol='WML', open=379.8492590280994, high=379.85, close=295.89, company_weight=0.0098)\n",
      "Stocks(name='Williamson PLC', symbol='WMPLC', open=244.7307065038094, high=279.12, close=189.36, company_weight=0.0127)\n",
      "Stocks(name='Ward-Russell', symbol='WRE', open=187.05478121543223, high=202.4, close=183.07, company_weight=0.0041)\n",
      "Stocks(name='Zavala Group', symbol='ZAGU', open=160.84633091751064, high=184.82, close=184.82, company_weight=0.0166)\n",
      "\n",
      "--------------Main details on 2021-07-09--------------\n",
      "\n",
      "Start of the day: 332.866\n",
      "Highest for the day: 352.19\n",
      "Lowest close for the day: 313.03\n"
     ]
    }
   ],
   "source": [
    "stock_market()"
   ]
  },
  {
   "cell_type": "code",
   "execution_count": null,
   "metadata": {},
   "outputs": [],
   "source": []
  },
  {
   "cell_type": "code",
   "execution_count": null,
   "metadata": {},
   "outputs": [],
   "source": []
  }
 ],
 "metadata": {
  "kernelspec": {
   "display_name": "Python 3",
   "language": "python",
   "name": "python3"
  },
  "language_info": {
   "codemirror_mode": {
    "name": "ipython",
    "version": 3
   },
   "file_extension": ".py",
   "mimetype": "text/x-python",
   "name": "python",
   "nbconvert_exporter": "python",
   "pygments_lexer": "ipython3",
   "version": "3.8.5"
  }
 },
 "nbformat": 4,
 "nbformat_minor": 4
}
